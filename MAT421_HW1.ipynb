{
  "nbformat": 4,
  "nbformat_minor": 0,
  "metadata": {
    "colab": {
      "provenance": [],
      "authorship_tag": "ABX9TyMMIKY78ZY7wxxigm6HqOTV",
      "include_colab_link": true
    },
    "kernelspec": {
      "name": "python3",
      "display_name": "Python 3"
    },
    "language_info": {
      "name": "python"
    }
  },
  "cells": [
    {
      "cell_type": "markdown",
      "metadata": {
        "id": "view-in-github",
        "colab_type": "text"
      },
      "source": [
        "<a href=\"https://colab.research.google.com/github/Gigiasu/MAT-421/blob/main/MAT421_HW1.ipynb\" target=\"_parent\"><img src=\"https://colab.research.google.com/assets/colab-badge.svg\" alt=\"Open In Colab\"/></a>"
      ]
    },
    {
      "cell_type": "code",
      "execution_count": null,
      "metadata": {
        "id": "4UavVhHQY8h4"
      },
      "outputs": [],
      "source": []
    },
    {
      "cell_type": "markdown",
      "source": [
        "9.1 Base-N and Binary\n",
        "Binary allows computers to compute and store information faster than it can in base 10, which is the base humans tend to to math in. The only digits avalible in binary are 0 and 1, which are all coefficients to powers of 2.\n"
      ],
      "metadata": {
        "id": "Wr9mXhZ-ZC35"
      }
    },
    {
      "cell_type": "markdown",
      "source": [
        "We will begin by converting digits in base 10 to base 2"
      ],
      "metadata": {
        "id": "WbmGbxdJcv0U"
      }
    },
    {
      "cell_type": "markdown",
      "source": [
        "1) 12 (base 10)"
      ],
      "metadata": {
        "id": "8lE4cgNYc_Tf"
      }
    },
    {
      "cell_type": "code",
      "source": [
        "bin(12) #converts 12 to binary\n"
      ],
      "metadata": {
        "colab": {
          "base_uri": "https://localhost:8080/",
          "height": 35
        },
        "id": "989RvL_LZEQk",
        "outputId": "6ef929e9-197e-49f6-b514-c177bddef3dc"
      },
      "execution_count": null,
      "outputs": [
        {
          "output_type": "execute_result",
          "data": {
            "text/plain": [
              "'0b1100'"
            ],
            "application/vnd.google.colaboratory.intrinsic+json": {
              "type": "string"
            }
          },
          "metadata": {},
          "execution_count": 6
        }
      ]
    },
    {
      "cell_type": "markdown",
      "source": [
        "2) 15 (base 10)"
      ],
      "metadata": {
        "id": "qd6tz_DwdDV_"
      }
    },
    {
      "cell_type": "code",
      "source": [
        "bin(15) #converts 15 to binary"
      ],
      "metadata": {
        "colab": {
          "base_uri": "https://localhost:8080/",
          "height": 35
        },
        "id": "P5A_PiYddH5d",
        "outputId": "74ced8da-e3d5-4b0a-9ee6-e5cdd29593aa"
      },
      "execution_count": null,
      "outputs": [
        {
          "output_type": "execute_result",
          "data": {
            "text/plain": [
              "'0b1111'"
            ],
            "application/vnd.google.colaboratory.intrinsic+json": {
              "type": "string"
            }
          },
          "metadata": {},
          "execution_count": 23
        }
      ]
    },
    {
      "cell_type": "markdown",
      "source": [
        "Now we will add and multiply in binary"
      ],
      "metadata": {
        "id": "RAm9juGbdLSk"
      }
    },
    {
      "cell_type": "code",
      "source": [
        "#Addition\n",
        "bin(20) #converts 20 to binary\n",
        "bin(18) #converts 18 to binary\n",
        "x=0b10100 #sets variable x as 20 base 2\n",
        "y=0b10010 #sets variable y as 18 base 2\n",
        "z=x+y\n",
        "print(f\"{z:b}\") #prints result in binary\n",
        "print(z) #prints result in base 10"
      ],
      "metadata": {
        "colab": {
          "base_uri": "https://localhost:8080/"
        },
        "id": "w__yTWwrdQ_U",
        "outputId": "fba11798-f035-48bb-b730-84c226a50a6d"
      },
      "execution_count": null,
      "outputs": [
        {
          "output_type": "stream",
          "name": "stdout",
          "text": [
            "100110\n",
            "38\n"
          ]
        }
      ]
    },
    {
      "cell_type": "code",
      "source": [
        "#Multiplication\n",
        "bin(7) #converts 7 to binary\n",
        "bin(8) #converts 8 to binary\n",
        "x=0b111 #sets variable x as 7 base 2\n",
        "y=0b1000 #sets variable y as 8 base 2\n",
        "z=x*y\n",
        "print(f\"{z:b}\") #prints result in binary\n",
        "print(z) #prints result in base 10"
      ],
      "metadata": {
        "colab": {
          "base_uri": "https://localhost:8080/"
        },
        "id": "6qFyW8TMfTVS",
        "outputId": "e65bd946-50ba-42a0-8b02-35367217b8a2"
      },
      "execution_count": null,
      "outputs": [
        {
          "output_type": "stream",
          "name": "stdout",
          "text": [
            "111000\n",
            "56\n"
          ]
        }
      ]
    },
    {
      "cell_type": "markdown",
      "source": [
        "9.2 Floating Point Numbers\n",
        "Computers tend to have a fixed amount of bits, meaning that for some numbers it becomes inefficient in range and presicion to represent them in binary and do useful calculations. In these cases the floating point numbers are useful to represent numbers that go beyond the amount of bits. Floats use 64 bits divided into three sections:sign indicator, exponent and fraction. 1 bit to sign indicator, 11 bits to exponent and 52 bits to fraction. Below we explore floats. "
      ],
      "metadata": {
        "id": "B7dvOQ3Nf71p"
      }
    },
    {
      "cell_type": "markdown",
      "source": [
        "The distance between one number to the next is refered to as the gap. We will verify that adding a number to any number that is less than\n",
        "half the gap at that number will result in the same number."
      ],
      "metadata": {
        "id": "AqeZliZboFvk"
      }
    },
    {
      "cell_type": "code",
      "source": [
        "import numpy as np \n",
        "np.spacing(1e9) #gives the gap at 1e8\n"
      ],
      "metadata": {
        "colab": {
          "base_uri": "https://localhost:8080/"
        },
        "id": "siX1ekXZnxSU",
        "outputId": "c991436b-4eaa-4b52-edf3-f065cf4cc68f"
      },
      "execution_count": null,
      "outputs": [
        {
          "output_type": "execute_result",
          "data": {
            "text/plain": [
              "1.1920928955078125e-07"
            ]
          },
          "metadata": {},
          "execution_count": 42
        }
      ]
    },
    {
      "cell_type": "code",
      "source": [
        "1e8 == (1e8 + np.spacing(1e8)/3) #verify that adding less than half the gap will result in the same number"
      ],
      "metadata": {
        "colab": {
          "base_uri": "https://localhost:8080/"
        },
        "id": "1Z29AB5mpR-q",
        "outputId": "430ecb58-dbc0-4b81-d73c-d8409236e8a5"
      },
      "execution_count": null,
      "outputs": [
        {
          "output_type": "execute_result",
          "data": {
            "text/plain": [
              "True"
            ]
          },
          "metadata": {},
          "execution_count": 43
        }
      ]
    },
    {
      "cell_type": "markdown",
      "source": [
        "Below is the code for floats"
      ],
      "metadata": {
        "id": "Y9kR_UCdpiQX"
      }
    },
    {
      "cell_type": "code",
      "source": [
        "import sys\n",
        "sys.float_info"
      ],
      "metadata": {
        "colab": {
          "base_uri": "https://localhost:8080/"
        },
        "id": "WaWN8Wbvjksc",
        "outputId": "6bfb3144-97e3-4c8f-fc03-fe1ee5c50f7c"
      },
      "execution_count": null,
      "outputs": [
        {
          "output_type": "execute_result",
          "data": {
            "text/plain": [
              "sys.float_info(max=1.7976931348623157e+308, max_exp=1024, max_10_exp=308, min=2.2250738585072014e-308, min_exp=-1021, min_10_exp=-307, dig=15, mant_dig=53, epsilon=2.220446049250313e-16, radix=2, rounds=1)"
            ]
          },
          "metadata": {},
          "execution_count": 26
        }
      ]
    },
    {
      "cell_type": "markdown",
      "source": [
        "Overflow:"
      ],
      "metadata": {
        "id": "gwi3q_6kqw_P"
      }
    },
    {
      "cell_type": "code",
      "source": [
        "print(1.79e308)#upper limit befor overflow\n",
        "1.88e308 #number that will result in overflow"
      ],
      "metadata": {
        "colab": {
          "base_uri": "https://localhost:8080/"
        },
        "id": "wP9oNKoLjvI3",
        "outputId": "ef770c16-8215-496e-b3bf-b890995ef372"
      },
      "execution_count": null,
      "outputs": [
        {
          "output_type": "stream",
          "name": "stdout",
          "text": [
            "1.79e+308\n"
          ]
        },
        {
          "output_type": "execute_result",
          "data": {
            "text/plain": [
              "inf"
            ]
          },
          "metadata": {},
          "execution_count": 51
        }
      ]
    },
    {
      "cell_type": "markdown",
      "source": [
        "Underflow:"
      ],
      "metadata": {
        "id": "fd_BFSCWqz-l"
      }
    },
    {
      "cell_type": "code",
      "source": [
        "print(2**-1074) #lower limit befor underflow\n",
        "2**-1075 #number will result in underflow"
      ],
      "metadata": {
        "colab": {
          "base_uri": "https://localhost:8080/"
        },
        "id": "vLUCTlgXpwma",
        "outputId": "93a6b025-a408-4e80-a4f3-fcf42e0cac80"
      },
      "execution_count": null,
      "outputs": [
        {
          "output_type": "execute_result",
          "data": {
            "text/plain": [
              "0.0"
            ]
          },
          "metadata": {},
          "execution_count": 48
        }
      ]
    },
    {
      "cell_type": "markdown",
      "source": [
        "9.3 Round-off Errors\n",
        "Because floating point numbers are stored with a finite number of bits, there is a difference between the results preformed in regular computation and its correct value. This is called round off error. "
      ],
      "metadata": {
        "id": "DJkM_xCxq2PV"
      }
    },
    {
      "cell_type": "markdown",
      "source": [
        "We know that 3.55-3.5 whould be 0.05 however the example below will show how roundoff error will make this record as false. "
      ],
      "metadata": {
        "id": "KVqV8_8dr0xh"
      }
    },
    {
      "cell_type": "code",
      "source": [
        "0.05==3.55-3.5 #compares the values to show roundoff "
      ],
      "metadata": {
        "colab": {
          "base_uri": "https://localhost:8080/"
        },
        "id": "jGDkxR3msIcA",
        "outputId": "569af25b-fedf-49db-a656-ef4b5b7e3cb2"
      },
      "execution_count": null,
      "outputs": [
        {
          "output_type": "execute_result",
          "data": {
            "text/plain": [
              "False"
            ]
          },
          "metadata": {},
          "execution_count": 52
        }
      ]
    },
    {
      "cell_type": "code",
      "source": [
        "3.55-3.5 #python calculated "
      ],
      "metadata": {
        "colab": {
          "base_uri": "https://localhost:8080/"
        },
        "id": "KLoxc2G3sN5Z",
        "outputId": "014b5f98-0987-4f5b-d309-d4881eba6715"
      },
      "execution_count": null,
      "outputs": [
        {
          "output_type": "execute_result",
          "data": {
            "text/plain": [
              "0.04999999999999982"
            ]
          },
          "metadata": {},
          "execution_count": 53
        }
      ]
    },
    {
      "cell_type": "code",
      "source": [
        "round(3.55-3.5,3)==round(.05,3) #rounding function makes previous equaiton true"
      ],
      "metadata": {
        "colab": {
          "base_uri": "https://localhost:8080/"
        },
        "id": "kzlgVWlqsg7q",
        "outputId": "a8689e8c-5fa1-4ee3-ff15-d67a131d2f04"
      },
      "execution_count": null,
      "outputs": [
        {
          "output_type": "execute_result",
          "data": {
            "text/plain": [
              "True"
            ]
          },
          "metadata": {},
          "execution_count": 54
        }
      ]
    },
    {
      "cell_type": "markdown",
      "source": [
        "We can show accumulation of roundoff through repetition of adding and subtracting the same value. For this we will use the equaiton \"1+ 4/9 - 4/9\""
      ],
      "metadata": {
        "id": "bOMZ4PiHs85V"
      }
    },
    {
      "cell_type": "code",
      "source": [
        "1+4/9-4/9"
      ],
      "metadata": {
        "colab": {
          "base_uri": "https://localhost:8080/"
        },
        "id": "PTauFyHStFC-",
        "outputId": "95fcee29-ac01-42e8-8882-c93d86b672d1"
      },
      "execution_count": null,
      "outputs": [
        {
          "output_type": "execute_result",
          "data": {
            "text/plain": [
              "1.0"
            ]
          },
          "metadata": {},
          "execution_count": 59
        }
      ]
    },
    {
      "cell_type": "code",
      "source": [
        "result = 1\n",
        "for i in range(1000): #loop for adding 4/9 for 1000 iterations\n",
        "    result += (4/9)\n",
        "\n",
        "for i in range(1000): #loop for subtracting 4/9 for 1000 iterations \n",
        "    result -= (4/9)\n",
        "print(result)"
      ],
      "metadata": {
        "colab": {
          "base_uri": "https://localhost:8080/"
        },
        "id": "kN6N0MdG1dxQ",
        "outputId": "f7994bd7-b24a-42e8-a2e2-b002000c4cc4"
      },
      "execution_count": null,
      "outputs": [
        {
          "output_type": "stream",
          "name": "stdout",
          "text": [
            "0.9999999999999687\n"
          ]
        }
      ]
    }
  ]
}