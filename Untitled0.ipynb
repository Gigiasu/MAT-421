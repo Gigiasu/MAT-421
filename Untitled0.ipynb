{
  "nbformat": 4,
  "nbformat_minor": 0,
  "metadata": {
    "colab": {
      "provenance": [],
      "authorship_tag": "ABX9TyNivjqmKbOHxaD9xVLIJmgf",
      "include_colab_link": true
    },
    "kernelspec": {
      "name": "python3",
      "display_name": "Python 3"
    },
    "language_info": {
      "name": "python"
    }
  },
  "cells": [
    {
      "cell_type": "markdown",
      "metadata": {
        "id": "view-in-github",
        "colab_type": "text"
      },
      "source": [
        "<a href=\"https://colab.research.google.com/github/Gigiasu/MAT-421/blob/main/Untitled0.ipynb\" target=\"_parent\"><img src=\"https://colab.research.google.com/assets/colab-badge.svg\" alt=\"Open In Colab\"/></a>"
      ]
    },
    {
      "cell_type": "markdown",
      "source": [
        "19.1 \n",
        "The root (zeros) of a funtion, f(x), is xr such that f(xr)= 0.\n",
        "\n",
        "Find the root of f(x)=cos(x)-x near -2 and verify that it is a root. "
      ],
      "metadata": {
        "id": "7Tj9kvi0nNSk"
      }
    },
    {
      "cell_type": "code",
      "source": [
        "import numpy as np \n",
        "from scipy import optimize \n",
        " \n",
        "f = lambda x: np.cos(x) - x \n",
        "r = optimize.fsolve(f, -2) \n",
        "print(\"r =\", r) \n",
        " \n",
        "# Verify the solution is a root \n",
        "result = f(r) \n",
        "print(\"result=\", result)"
      ],
      "metadata": {
        "colab": {
          "base_uri": "https://localhost:8080/"
        },
        "id": "F3bt_-CUfEb5",
        "outputId": "a5130af1-58fb-4f1e-e8cc-770f8ecdfc58"
      },
      "execution_count": 1,
      "outputs": [
        {
          "output_type": "stream",
          "name": "stdout",
          "text": [
            "r = [0.73908513]\n",
            "result= [0.]\n"
          ]
        }
      ]
    },
    {
      "cell_type": "markdown",
      "source": [
        "19.2 Tolerence\n",
        "\n",
        "Tolerence is the accepted deviation from expected value or calculated value for engineering applications. We define convergence to a solution as finding an error value smaller than the tollerence value. \n",
        "\n",
        "When calculating roots, we want an xr value such that f(xr) is very close to zero. From this, |f(x)| is a possible choice for measure of error since the smaller the number is, more likely it is closer to a root. If the xi is the i^th guess of an algorithm for finding a root, then |x(i+1) - xi| is another possible measure of error.\n"
      ],
      "metadata": {
        "id": "JqHQQpy1fRxy"
      }
    },
    {
      "cell_type": "markdown",
      "source": [
        "19.3 Bisection Method\n",
        "\n",
        "The bisection method uses the intermediate value theorm interativaly to find roots.\n",
        "\n",
        "The example below will consider the root of x^2 - 8. Starting at a = 0 and b = 8 to a tolerance of |f(x)| < 0.1 and |f(x)| < 0.01"
      ],
      "metadata": {
        "id": "aA4xWSPwhfs8"
      }
    },
    {
      "cell_type": "code",
      "source": [
        "import numpy as np \n",
        " \n",
        "def my_bisection(f, a, b, tol):  \n",
        "    \n",
        "    if np.sign(f(a)) == np.sign(f(b)): \n",
        "        raise Exception( \n",
        "         \"The scalars a and b do not bound a root\") \n",
        "         \n",
        "    m = (a + b)/2 \n",
        "\n",
        "    if np.abs(f(m)) < tol: \n",
        "        return m \n",
        "    elif np.sign(f(a)) == np.sign(f(m)): \n",
        "        return my_bisection(f, m, b, tol) \n",
        "    elif np.sign(f(b)) == np.sign(f(m)): \n",
        "        return my_bisection(f, a, m, tol) "
      ],
      "metadata": {
        "id": "sws1NvMNkOqZ"
      },
      "execution_count": 2,
      "outputs": []
    },
    {
      "cell_type": "code",
      "source": [
        "f = lambda x: x**2 - 8 \n",
        " \n",
        "r1 = my_bisection(f, 0, 8, 0.1) \n",
        "print(\"r1 =\", r1) \n",
        "r01 = my_bisection(f, 0, 8, 0.01) \n",
        "print(\"r01 =\", r01) \n",
        " \n",
        "print(\"f(r1) =\", f(r1)) \n",
        "print(\"f(r01) =\", f(r01)) "
      ],
      "metadata": {
        "colab": {
          "base_uri": "https://localhost:8080/"
        },
        "id": "Mq90cdikkgSv",
        "outputId": "a428e3a2-bd26-432c-8702-3ab8b86a54ad"
      },
      "execution_count": 3,
      "outputs": [
        {
          "output_type": "stream",
          "name": "stdout",
          "text": [
            "r1 = 2.8125\n",
            "r01 = 2.828125\n",
            "f(r1) = -0.08984375\n",
            "f(r01) = -0.001708984375\n"
          ]
        }
      ]
    },
    {
      "cell_type": "markdown",
      "source": [
        "19.4 Newton-Raphson Method\n",
        "\n",
        "The Newton-Raphson Method of finding roots iterates Newton steps from x0 until the error is less than the tolerance. Newton steps are x_i=x_i+1-((g*x_i-1)/(g'*x_i-1))\n",
        "\n",
        "The example below will use the Newton-Raphson method on the function f(x)x^2-8 with x0=2.8"
      ],
      "metadata": {
        "id": "w80D4Cp3kpjR"
      }
    },
    {
      "cell_type": "code",
      "source": [
        "import numpy as np \n",
        " \n",
        "f = lambda x: x**2 - 8 \n",
        "f_prime = lambda x: 2*x \n",
        "newton_raphson = 2.8 - (f(2.8))/(f_prime(2.8)) \n",
        " \n",
        "print(\"newton_raphson =\", newton_raphson) \n",
        "print(\"sqrt(8) =\", np.sqrt(8))"
      ],
      "metadata": {
        "colab": {
          "base_uri": "https://localhost:8080/"
        },
        "id": "r4WYYg6_lq-d",
        "outputId": "d7452290-6618-4ffb-d3ce-52574013d183"
      },
      "execution_count": 4,
      "outputs": [
        {
          "output_type": "stream",
          "name": "stdout",
          "text": [
            "newton_raphson = 2.8285714285714287\n",
            "sqrt(8) = 2.8284271247461903\n"
          ]
        }
      ]
    },
    {
      "cell_type": "markdown",
      "source": [
        "19.5 Root Finding in Python\n",
        "\n",
        "Luckily Python has  a built in root finding function for less typing needed"
      ],
      "metadata": {
        "id": "JX0rXVH7mZyV"
      }
    },
    {
      "cell_type": "code",
      "source": [
        "from scipy.optimize import fsolve\n"
      ],
      "metadata": {
        "id": "Bek6_RAem7tj"
      },
      "execution_count": 7,
      "outputs": []
    },
    {
      "cell_type": "code",
      "source": [
        "f = lambda x: 2**x-2\n",
        "\n",
        "fsolve(f, [0, 10])"
      ],
      "metadata": {
        "colab": {
          "base_uri": "https://localhost:8080/"
        },
        "id": "BYGGmHTFnXsk",
        "outputId": "5c2fbf9c-d631-46ef-e384-043e1cdeecfd"
      },
      "execution_count": 10,
      "outputs": [
        {
          "output_type": "execute_result",
          "data": {
            "text/plain": [
              "array([-5.46369824,  1.00455299])"
            ]
          },
          "metadata": {},
          "execution_count": 10
        }
      ]
    }
  ]
}