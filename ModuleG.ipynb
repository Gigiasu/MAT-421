{
  "nbformat": 4,
  "nbformat_minor": 0,
  "metadata": {
    "colab": {
      "provenance": [],
      "authorship_tag": "ABX9TyN28pRctWk7sTJ6qVBAMA05",
      "include_colab_link": true
    },
    "kernelspec": {
      "name": "python3",
      "display_name": "Python 3"
    },
    "language_info": {
      "name": "python"
    }
  },
  "cells": [
    {
      "cell_type": "markdown",
      "metadata": {
        "id": "view-in-github",
        "colab_type": "text"
      },
      "source": [
        "<a href=\"https://colab.research.google.com/github/Gigiasu/MAT-421/blob/main/ModuleG.ipynb\" target=\"_parent\"><img src=\"https://colab.research.google.com/assets/colab-badge.svg\" alt=\"Open In Colab\"/></a>"
      ]
    },
    {
      "cell_type": "markdown",
      "source": [
        "21.1\n",
        "\n",
        "We will explore approximation methods for aproximating ∫f(x)dx over the interval [a,b]. We assume there to be n+1 points with h=(b-a)/n spacing in a numerical grid. \n",
        " "
      ],
      "metadata": {
        "id": "S-CioMdpRY5T"
      }
    },
    {
      "cell_type": "markdown",
      "source": [
        "21.2 Reimanns Integral \n",
        "\n",
        "Reimann sums divide the area of the funciton into rectangles with width h and height f(x). The height, f(x) can be taken in three different methods: left endpoint, right endpoint, and midpoint. With this, you can choose the height of the rectangle as the top left corner, top right cornerm or midpoint of the rectangle."
      ],
      "metadata": {
        "id": "HSuIXaYESIzw"
      }
    },
    {
      "cell_type": "markdown",
      "source": [
        "We will show an example below of left, right, and midpoint reimann sums for x^3+7. You will be able to see by the errors that midpoint reimann sum tends to be the most accurate of the three while left and right will be more accurate depeding on the shape of the curve. "
      ],
      "metadata": {
        "id": "4iicIUCaVYNd"
      }
    },
    {
      "cell_type": "code",
      "source": [
        "import numpy as np\n",
        "\n",
        "a = 0\n",
        "b = 2\n",
        "n = 11\n",
        "h = (b - a) / (n - 1)\n",
        "x = np.linspace(a, b, n)\n",
        "f =x**3+7\n",
        "\n",
        "I_riemannL = h * sum(f[:n-1])\n",
        "err_riemannL = 18 - I_riemannL\n",
        "\n",
        "I_riemannR = h * sum(f[1::])\n",
        "err_riemannR = 18 - I_riemannR\n",
        "\n",
        "I_mid = h * sum((f[:n-1] \\\n",
        "        + f[1:])/2)\n",
        "err_mid = 18 - I_mid\n",
        "\n",
        "print(I_riemannL)\n",
        "print(err_riemannL)\n",
        "\n",
        "print(I_riemannR)\n",
        "print(err_riemannR)\n",
        "\n",
        "print(I_mid)\n",
        "print(err_mid)"
      ],
      "metadata": {
        "colab": {
          "base_uri": "https://localhost:8080/"
        },
        "id": "AliYDmbGTCuF",
        "outputId": "7ad717f5-d1a5-4d34-c3c3-8fdd02c5e5db"
      },
      "execution_count": null,
      "outputs": [
        {
          "output_type": "stream",
          "name": "stdout",
          "text": [
            "17.24\n",
            "0.7600000000000016\n",
            "18.84\n",
            "-0.8399999999999999\n",
            "18.040000000000003\n",
            "-0.0400000000000027\n"
          ]
        }
      ]
    },
    {
      "cell_type": "markdown",
      "source": [
        "21.3 Trapezoidal rule\n",
        "\n",
        "The trapezoid rule works like Reimann sums except the integral is divided into trapezoids instead of rectangles. This tends to be more accurate. The trapidoids are summed up to obtain an estimate of the integral. ∑ h(f(xi)+f(xi+1))/2. When expanded it looks like this: h/2[(f(x0)+f(x1))+(f(x1)+f(x2))+(f(x2)+f(x3))+⋯+(f(xn−1)+f(xn))]."
      ],
      "metadata": {
        "id": "Sb8cWZ7MVuXj"
      }
    },
    {
      "cell_type": "code",
      "source": [
        "import numpy as np\n",
        "\n",
        "a = 0\n",
        "b = 2\n",
        "n = 11\n",
        "h = (b - a) / (n - 1)\n",
        "x = np.linspace(a, b, n)\n",
        "f =x**3+7\n",
        "\n",
        "I_trap = (h/2)*(f[0] + \\\n",
        "          2 * sum(f[1:n-1]) + f[n-1])\n",
        "err_trap = 18 - I_trap\n",
        "\n",
        "print(I_trap)\n",
        "print(err_trap)"
      ],
      "metadata": {
        "colab": {
          "base_uri": "https://localhost:8080/"
        },
        "id": "hEnee-oOvHp_",
        "outputId": "ae463606-d11e-4a01-fe0e-302e145ba91d"
      },
      "execution_count": 1,
      "outputs": [
        {
          "output_type": "stream",
          "name": "stdout",
          "text": [
            "18.04\n",
            "-0.03999999999999915\n"
          ]
        }
      ]
    }
  ]
}