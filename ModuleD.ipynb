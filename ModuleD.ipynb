{
  "nbformat": 4,
  "nbformat_minor": 0,
  "metadata": {
    "colab": {
      "provenance": [],
      "authorship_tag": "ABX9TyN77pdZ7Lrk0LZpWyztB3Ll",
      "include_colab_link": true
    },
    "kernelspec": {
      "name": "python3",
      "display_name": "Python 3"
    },
    "language_info": {
      "name": "python"
    }
  },
  "cells": [
    {
      "cell_type": "markdown",
      "metadata": {
        "id": "view-in-github",
        "colab_type": "text"
      },
      "source": [
        "<a href=\"https://colab.research.google.com/github/Gigiasu/MAT-421/blob/main/ModuleD.ipynb\" target=\"_parent\"><img src=\"https://colab.research.google.com/assets/colab-badge.svg\" alt=\"Open In Colab\"/></a>"
      ]
    },
    {
      "cell_type": "markdown",
      "source": [
        "1.2.1 Linear Combinations\n",
        "\n",
        "Linear combination is a vector made by multiplying individual vectors by a scaler and adding the resultant vectors. A linear subspace is a result of linear combinations.\n",
        "\n",
        "In the example below we will write the vector [2,6,2] as a linear combination of two vectors.\n",
        "\n"
      ],
      "metadata": {
        "id": "qiT0HPjRM52e"
      }
    },
    {
      "cell_type": "code",
      "source": [
        "import numpy as np\n",
        "vector_one=np.array([1,2,1])\n",
        "vector_two=np.array([0,2,0])\n",
        "\n",
        "x=vector_one*2\n",
        "y=vector_two*1\n",
        "\n",
        "z=np.array([2,6,2])\n",
        "\n",
        "result=x+y\n",
        "print(result)\n",
        "print(result==z)"
      ],
      "metadata": {
        "colab": {
          "base_uri": "https://localhost:8080/"
        },
        "id": "HnOJVt1cO8vz",
        "outputId": "6eef7698-5408-4b35-922e-7c06aefbe1ab"
      },
      "execution_count": 4,
      "outputs": [
        {
          "output_type": "stream",
          "name": "stdout",
          "text": [
            "[2 6 2]\n",
            "[ True  True  True]\n"
          ]
        }
      ]
    },
    {
      "cell_type": "markdown",
      "source": [
        "1.2 Linear independence and dimension\n",
        "\n",
        "A set of vectors are linearly independent if none of them can be written as a combination of the other. If all the vectors were to be multiplied by some scaler and added to get the zero vector, to be linearly independent, the only possible scaler must be zero. \n",
        "\n",
        "Basis: set of vectors that generates all elements of the vector space and the vectors in the set are linearly independent\n",
        "\n",
        "The dimension theorem: Let U be a linear subspace of V. Any basis and bases of U has the same number of elements. This number is called the dimension \n",
        "\n",
        "For the example below we will take the vectors [4,3,5], [5,2,1], and [4,7,8] and see if they are linearly independent by setting them equal to the zero vector. If the solution is [0,0,0] then they are linearly independent. The equation will be c1[4,3,5]+c2[5,2,1]+c3[4,7,8]=[0,0,0]"
      ],
      "metadata": {
        "id": "edItIxUfQxA2"
      }
    },
    {
      "cell_type": "code",
      "source": [
        "A=np.array([[4,3,5], [5,2,1], [4,7,8]])\n",
        "y=np.array([0,0,0])\n",
        "x=np.linalg.solve(A,y)\n",
        "print(x)"
      ],
      "metadata": {
        "colab": {
          "base_uri": "https://localhost:8080/"
        },
        "id": "nWzKOlPaUUGY",
        "outputId": "7df506a4-9db8-400d-be30-af576efd6f97"
      },
      "execution_count": 5,
      "outputs": [
        {
          "output_type": "stream",
          "name": "stdout",
          "text": [
            "[0. 0. 0.]\n"
          ]
        }
      ]
    },
    {
      "cell_type": "markdown",
      "source": [
        "1.2 Orthonormal basis\n",
        "\n",
        "Inner product: ⟨u,v⟩ = u·v\n",
        "\n",
        "Orthonomal: A list of vectors s {u1,...,um}is orthonormal if all of the vectors are pairwise orthogonal and each has a norm of 1\n",
        "\n",
        "Orthogonal Projection: Let U ⊆ V be a linear subspace with orthonormal basis q1,...,qm. The orthogonal porjection of v ∊ V on U is Pu v =∑(j=1)⟨v,qj⟩qj\n",
        "\n",
        "Best Approximation Theorem: Let U ⊆ V be a linear subspace with orthonormal basis q1,...,qm and let v∈V. For any u∈U, ∥v−PU v∥ ≤ ∥v−u∥.\n",
        "\n",
        "\n",
        "Gram-Schmidt process: Gram_Schmidt is used to obtain an orthonormal basis. Let a1,...,am in Rn be linearly independent. Then there exist an orthonormal basis q1,...,qm of span(a1,...,am).\n",
        "\n",
        "1.2 Eigenvalues and Eigenvectors\n",
        "\n",
        "Eigenvalue: Let A be a square matrix in the real number system. Then λ ∈ R is an eigenvalue of A if there exists a nonzero vector x ̸= 0 such that Ax = λx. The vector x is refered to as the eigenvector\n",
        "\n",
        "In the example below we will explore eigenvalues and eigenvectors\n",
        "\n",
        "\n"
      ],
      "metadata": {
        "id": "8POnhuvxW_CT"
      }
    },
    {
      "cell_type": "code",
      "source": [
        "import numpy as np\n",
        "from numpy.linalg import eig\n",
        "x = np.array([ [0, 2], [2, 3] ])\n",
        "w,v = eig(x)\n",
        "print('E-value:', w)\n",
        "print('E-vector', v)"
      ],
      "metadata": {
        "colab": {
          "base_uri": "https://localhost:8080/"
        },
        "id": "9UehgKjKaxIP",
        "outputId": "f4f93f6b-907c-4081-9029-0e55382ff3a8"
      },
      "execution_count": 9,
      "outputs": [
        {
          "output_type": "stream",
          "name": "stdout",
          "text": [
            "E-value: [-1.  4.]\n",
            "E-vector [[-0.89442719 -0.4472136 ]\n",
            " [ 0.4472136  -0.89442719]]\n"
          ]
        }
      ]
    },
    {
      "cell_type": "markdown",
      "source": [
        "1.3 Linear Regression\n",
        "\n",
        "QR decomposition: QR decomposition breaks down a matrix A into two matrix that when multipied together, A = QR, producte matrix A. These matrices can be derived from the Gram-Schimdt process. "
      ],
      "metadata": {
        "id": "jWEFSw3LWBVP"
      }
    },
    {
      "cell_type": "code",
      "source": [
        "import numpy as np\n",
        "from numpy.linalg import qr\n",
        "x = np.array([[1, 2], [3, 4]])\n",
        "\n",
        "Q,R = qr(x)\n",
        "print('Q:', Q)\n",
        "print('R:', R)\n",
        "\n",
        "y = np.dot(Q, R)\n",
        "print('QR:', y)\n",
        "\n",
        "iterations = [1, 20]\n",
        "for i in range(20):\n",
        "    Q,R = qr(x)\n",
        "    x = np.dot(R, Q)\n",
        "    if i+1 in iterations:\n",
        "        print(f'Iteration {i+1}:')\n",
        "        print(x)"
      ],
      "metadata": {
        "colab": {
          "base_uri": "https://localhost:8080/"
        },
        "id": "fNkGwaRzcGv5",
        "outputId": "aa1e39f7-2dec-46a4-f049-4436f73c21cf"
      },
      "execution_count": 11,
      "outputs": [
        {
          "output_type": "stream",
          "name": "stdout",
          "text": [
            "Q: [[-0.31622777 -0.9486833 ]\n",
            " [-0.9486833   0.31622777]]\n",
            "R: [[-3.16227766 -4.42718872]\n",
            " [ 0.         -0.63245553]]\n",
            "QR: [[1. 2.]\n",
            " [3. 4.]]\n",
            "Iteration 1:\n",
            "[[ 5.2  1.6]\n",
            " [ 0.6 -0.2]]\n",
            "Iteration 20:\n",
            "[[ 5.37228132e+00 -1.00000000e+00]\n",
            " [ 5.93103358e-23 -3.72281323e-01]]\n"
          ]
        }
      ]
    },
    {
      "cell_type": "markdown",
      "source": [
        "Least Square problems\n",
        "\n",
        "The system Ax=b is often inconsistent. Thus, we look to use Ax to approximate b. In this case we are interested in overdetermined systems wehre n>m. With the QR breakdown we can get Rx*=Q^T b which can be solved by backwards substitution. "
      ],
      "metadata": {
        "id": "JoXPljupcuPD"
      }
    }
  ]
}