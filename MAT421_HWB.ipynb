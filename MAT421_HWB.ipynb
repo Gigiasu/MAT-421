{
  "nbformat": 4,
  "nbformat_minor": 0,
  "metadata": {
    "colab": {
      "provenance": [],
      "authorship_tag": "ABX9TyMHIokB4cCAlCZDSuKykwiY",
      "include_colab_link": true
    },
    "kernelspec": {
      "name": "python3",
      "display_name": "Python 3"
    },
    "language_info": {
      "name": "python"
    }
  },
  "cells": [
    {
      "cell_type": "markdown",
      "metadata": {
        "id": "view-in-github",
        "colab_type": "text"
      },
      "source": [
        "<a href=\"https://colab.research.google.com/github/Gigiasu/MAT-421/blob/main/MAT421_HWB.ipynb\" target=\"_parent\"><img src=\"https://colab.research.google.com/assets/colab-badge.svg\" alt=\"Open In Colab\"/></a>"
      ]
    },
    {
      "cell_type": "markdown",
      "source": [
        "Interpolation\n",
        "Interpolation allows estimation of functions without modeling (however it still but inform user quality). We assume the data of independent values xi and dependent values yi, where i= 1,...,n. We would then create estimations to go through our data points such that y(xi)=yi. This is called interpolation"
      ],
      "metadata": {
        "id": "XGHSArZpHOv0"
      }
    },
    {
      "cell_type": "markdown",
      "source": [
        "17.2 Linear Interpolation\n",
        "\n",
        "Example of linear interpolation\n",
        "\n",
        "We want to know the interpolation at x=.5 and x=1.25 given the data set x=[0,1,2] and y=[5,2,1]"
      ],
      "metadata": {
        "id": "HFHR0zEDHvJw"
      }
    },
    {
      "cell_type": "code",
      "source": [
        "from scipy.interpolate import interp1d \n",
        "import matplotlib.pyplot as plt \n"
      ],
      "metadata": {
        "id": "9q_01WIzJG7E"
      },
      "execution_count": 3,
      "outputs": []
    },
    {
      "cell_type": "code",
      "source": [
        "x=[0,1,2]\n",
        "y=[5,2,1]\n",
        "f=interp1d(x,y)\n",
        "y_hat1=f(1.25)\n",
        "y_hat2=f(.5)\n",
        "print(y_hat1)\n",
        "print(y_hat2)"
      ],
      "metadata": {
        "colab": {
          "base_uri": "https://localhost:8080/"
        },
        "id": "HsgHHs3JJ3k2",
        "outputId": "22a5516f-0269-4f7f-d74f-fa9802b1efb7"
      },
      "execution_count": 15,
      "outputs": [
        {
          "output_type": "stream",
          "name": "stdout",
          "text": [
            "1.75\n",
            "3.5\n"
          ]
        }
      ]
    },
    {
      "cell_type": "code",
      "source": [
        "plt.figure\n",
        "plt.plot(x, y, '-ob') \n",
        "plt.plot(1.25, y_hat1, 'ro') \n",
        "plt.plot(.5,y_hat2,'ro')\n",
        "plt.title('Linear Interpolation at x = 1.25') \n",
        "plt.xlabel('x') \n",
        "plt.ylabel('y') \n",
        "plt.show() "
      ],
      "metadata": {
        "colab": {
          "base_uri": "https://localhost:8080/",
          "height": 295
        },
        "id": "fCkgGzGUKUoR",
        "outputId": "f024b574-c4de-40ef-bf27-7f1a79828f88"
      },
      "execution_count": 16,
      "outputs": [
        {
          "output_type": "display_data",
          "data": {
            "text/plain": [
              "<Figure size 432x288 with 1 Axes>"
            ],
            "image/png": "[encoded data removed]"
          },
          "metadata": {
            "needs_background": "light"
          }
        }
      ]
    },
    {
      "cell_type": "markdown",
      "source": [
        "17.3 Cubic Spline Interpolation \n",
        "\n",
        "In cubic spline interpolation the interpolating function is a set of piecewise cubic functions. We assume that each adjoining point is bridged by the cubic polynomial Si=ai*x^3+bi*x^2+ci+d that is valid for xi<=x<=x(i+1) for i=1,...,n-1. First all the ai, bi, ci, and d coefficients need to be solved for. For n points there are n-1 cubic functions to be found. "
      ],
      "metadata": {
        "id": "X25zwTr7K1fI"
      }
    },
    {
      "cell_type": "markdown",
      "source": [
        "For this example let us find 0<=x<=3 in the data set x=[0,1,2] y=[1,5,3]"
      ],
      "metadata": {
        "id": "zOtPHXJePCkM"
      }
    },
    {
      "cell_type": "code",
      "source": [
        "from scipy.interpolate import CubicSpline \n",
        "import numpy as np \n",
        "import matplotlib.pyplot as plt "
      ],
      "metadata": {
        "id": "O807Q6HNO42g"
      },
      "execution_count": 17,
      "outputs": []
    },
    {
      "cell_type": "code",
      "source": [
        "x = [0, 1, 2] \n",
        "y = [1, 3, 2] \n",
        " \n",
        "f = CubicSpline(x, y, bc_type='natural') \n",
        "x_new = np.linspace(0, 3, 100) \n",
        "y_new = f(x_new)"
      ],
      "metadata": {
        "id": "Fw23LFd1O8pY"
      },
      "execution_count": 19,
      "outputs": []
    },
    {
      "cell_type": "code",
      "source": [
        "plt.figure \n",
        "plt.plot(x_new, y_new, 'b') \n",
        "plt.plot(x, y, 'ro') \n",
        "plt.title('Cubic Spline Interpolation') \n",
        "plt.xlabel('x') \n",
        "plt.ylabel('y') \n",
        "plt.show() "
      ],
      "metadata": {
        "colab": {
          "base_uri": "https://localhost:8080/",
          "height": 295
        },
        "id": "l_ABeIDfP5yf",
        "outputId": "caa0da50-93d3-48ae-da46-2ee902be17fa"
      },
      "execution_count": 20,
      "outputs": [
        {
          "output_type": "display_data",
          "data": {
            "text/plain": [
              "<Figure size 432x288 with 1 Axes>"
            ],
            "image/png": "[encoded data removed]"
          },
          "metadata": {
            "needs_background": "light"
          }
        }
      ]
    }
  ]
}